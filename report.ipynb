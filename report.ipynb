{
 "cells": [
  {
   "cell_type": "markdown",
   "metadata": {},
   "source": [
    "# Self-Explaining Neural Networks: A review with extensions\n",
    "---\n",
    "\n",
    "<img src='senn/notebooks/img/SENN.png' style='width: 500px;'/>"
   ]
  },
  {
   "cell_type": "markdown",
   "metadata": {},
   "source": [
    "## Table of Contents\n",
    "\n",
    "1. [Environment Setup](#setup)\n",
    "2. [Reproducing MNIST Results](#reproduce_mnist)\n",
    "3. [Reproducing COMPAS Results](#reproduce_compas)\n",
    "4. [Study of Robustness](#robustness_study)\n",
    "5. [Self-Explaining Neural Networks with Disentanglement](#DiSENN)\n",
    "___"
   ]
  },
  {
   "cell_type": "markdown",
   "metadata": {},
   "source": [
    "<a name=\"setup\"></a>\n",
    "# 1. Environment Setup"
   ]
  },
  {
   "cell_type": "markdown",
   "metadata": {},
   "source": [
    "## Import libraries"
   ]
  },
  {
   "cell_type": "code",
   "execution_count": 1,
   "metadata": {},
   "outputs": [
    {
     "name": "stdout",
     "output_type": "stream",
     "text": [
      "Requirement already satisfied: tqdm in /Users/giovannidantonio/2822-SENN-Project/.conda/lib/python3.7/site-packages (4.66.6)\n",
      "Note: you may need to restart the kernel to use updated packages.\n"
     ]
    }
   ],
   "source": [
    "pip install tqdm"
   ]
  },
  {
   "cell_type": "code",
   "execution_count": 2,
   "metadata": {},
   "outputs": [],
   "source": [
    "import json\n",
    "import torch\n",
    "import numpy as np\n",
    "import torch.nn as nn\n",
    "from torchvision.utils import make_grid\n",
    "import matplotlib.pyplot as plt\n",
    "from pathlib import Path\n",
    "from types import SimpleNamespace\n",
    "from importlib import import_module\n",
    "from tqdm import tqdm\n",
    "\n",
    "\n",
    "%matplotlib inline"
   ]
  },
  {
   "cell_type": "code",
   "execution_count": 3,
   "metadata": {},
   "outputs": [],
   "source": [
    "from senn.models.losses import *\n",
    "from senn.models.parameterizers import *\n",
    "from senn.models.conceptizers import *\n",
    "from senn.models.aggregators import *\n",
    "from senn.models.senn import SENN, DiSENN"
   ]
  },
  {
   "cell_type": "code",
   "execution_count": 4,
   "metadata": {},
   "outputs": [],
   "source": [
    "from senn.datasets.dataloaders import get_dataloader\n",
    "from senn.utils.plot_utils import show_explainations, show_prototypes, plot_lambda_accuracy, get_comparison_plot"
   ]
  },
  {
   "cell_type": "markdown",
   "metadata": {},
   "source": [
    "## Utility functions"
   ]
  },
  {
   "cell_type": "code",
   "execution_count": 5,
   "metadata": {},
   "outputs": [],
   "source": [
    "def get_config(filename):\n",
    "    config_path = Path('configs')\n",
    "    config_file = config_path / filename\n",
    "    with open(config_file, 'r') as f:\n",
    "        config = json.load(f)\n",
    "    \n",
    "    return SimpleNamespace(**config)"
   ]
  },
  {
   "cell_type": "code",
   "execution_count": 6,
   "metadata": {},
   "outputs": [],
   "source": [
    "def load_checkpoint(config):\n",
    "    model_file = Path('results') / config.exp_name / \"checkpoints\" / \"best_model.pt\" \n",
    "    return torch.load(model_file, config.device)\n",
    "\n"
   ]
  },
  {
   "cell_type": "code",
   "execution_count": 7,
   "metadata": {},
   "outputs": [],
   "source": [
    "def accuracy(model, dataloader, config):\n",
    "    accuracies = []\n",
    "    model.eval()\n",
    "    with torch.no_grad():\n",
    "        for i, (x, labels) in enumerate(dataloader):\n",
    "            x = x.float().to(config.device)\n",
    "            labels = labels.long().to(config.device)\n",
    "            y_pred, (concepts, relevances), _ = model(x)\n",
    "            accuracies.append((y_pred.argmax(axis=1) == labels).float().mean().item())\n",
    "    accuracy = np.array(accuracies).mean()\n",
    "    print(f\"Test Mean Accuracy: {accuracy * 100: .3f} %\")\n"
   ]
  },
  {
   "cell_type": "code",
   "execution_count": 8,
   "metadata": {},
   "outputs": [],
   "source": [
    "def fgsm_attack(image, epsilon, data_grad):\n",
    "    sign_data_grad = data_grad.sign()\n",
    "\n",
    "    perturbed_image = image + epsilon*((torch.max(image)-torch.min(image)))*sign_data_grad\n",
    "\n",
    "    perturbed_image = torch.clamp(perturbed_image, torch.min(image), torch.max(image))\n",
    "\n",
    "    return perturbed_image\n",
    "\n",
    "def uniform_attack(image, epsilon, data_grad):\n",
    "    #sign_data_grad = data_grad.sign()\n",
    "\n",
    "    perturbed_image = image + (epsilon * torch.rand(image.shape))#sign_data_grad\n",
    "\n",
    "    perturbed_image = torch.clamp(perturbed_image, 0, 1)\n",
    "\n",
    "    return perturbed_image\n",
    "\n",
    "def perturbed_accuracy(SENN, component_name, component_model, dataloader, config, eps, max_samples=1000):\n",
    "    SENN.eval()\n",
    "    for component in component_model:\n",
    "        component.eval()\n",
    "    correct = 0\n",
    "    total = 0\n",
    "    \n",
    "    # Add progress bar and sample limit\n",
    "    for x, labels in tqdm(dataloader, total=min(len(dataloader), max_samples)):\n",
    "        if total >= max_samples:\n",
    "            break\n",
    "            \n",
    "        x = x.float().to(config.device)\n",
    "        x.requires_grad = True\n",
    "        labels = labels.to(config.device)\n",
    "        \n",
    "        # Forward pass\n",
    "        \n",
    "        # Calculate loss\n",
    "        if component_name == \"conceptizer\":\n",
    "            _, reconstructed = component_model[0](x)\n",
    "            loss = nn.MSELoss()\n",
    "            J = loss(reconstructed, x)\n",
    "        elif component_name == \"parameterizer\":\n",
    "            _, reconstructed = component_model[0](x)\n",
    "            relevances = component_model[1](x)\n",
    "            loss = mse_l1_sparsity\n",
    "            J = loss(x, reconstructed, relevances, 0.1)\n",
    "        elif component_name == \"aggregator\":\n",
    "            concepts, reconstructed = component_model[0](x)\n",
    "            relevances = component_model[1](x)\n",
    "            concepts = concepts.detach()\n",
    "            relevances = relevances.detach()\n",
    "            concepts.requires_grad = True\n",
    "            relevances.requires_grad = True\n",
    "            predictions = component_model[2](concepts, relevances)\n",
    "            loss = nn.CrossEntropyLoss()\n",
    "            J = loss(predictions, labels)\n",
    "        else:\n",
    "            raise NotImplementedError\n",
    "        \n",
    "        # Backward pass\n",
    "        for component in component_model:\n",
    "            component.zero_grad()\n",
    "        J.backward()\n",
    "        \n",
    "        \n",
    "        if component_name != \"aggregator\":\n",
    "            data_grad = x.grad.data\n",
    "            # Generate adversarial examples\n",
    "            perturbed_input = fgsm_attack(x, eps/255, data_grad)\n",
    "            \n",
    "            # Get predictions on perturbed input\n",
    "            perturbed_output, _, _ = SENN(perturbed_input)\n",
    "        else:\n",
    "            # Generate adversarial examples\n",
    "            c_grad = concepts.grad.data\n",
    "            r_grad = relevances.grad.data\n",
    "            perturbed_components = fgsm_attack(concepts, eps/255, c_grad)\n",
    "            perturbed_relevances = fgsm_attack(relevances, eps/255, r_grad)\n",
    "            \n",
    "            perturbed_components = 1-perturbed_components.detach()\n",
    "\n",
    "            # Get predictions on perturbed input\n",
    "            perturbed_input = (perturbed_components, perturbed_relevances)\n",
    "            perturbed_output = component_model[2](perturbed_components, perturbed_relevances)\n",
    "        \n",
    "        # Track accuracy\n",
    "        _, predicted = torch.max(perturbed_output.data, 1)\n",
    "        total += labels.size(0)\n",
    "        correct += (predicted == labels).sum().item()\n",
    "        \n",
    "    accuracy = 100 * correct / total\n",
    "    print(f\"Epsilon {eps} | Perturbed Accuracy: {accuracy:.2f}%\")\n",
    "\n",
    "    return perturbed_input, perturbed_output, accuracy\n",
    "\n",
    "\n",
    "def perturbed_accuracy_joint(SENN, component_name, component_model, dataloader, config, eps, max_samples=1000):\n",
    "    \"\"\"Test accuracy when jointly perturbing two components.\n",
    "    \n",
    "    Args:\n",
    "        SENN: The SENN model\n",
    "        component_name: Which two components to perturb (\"conc+agg\", \"para+agg\", or \"conc+para\") \n",
    "        component_model: List of [conceptizer, parameterizer, aggregator]\n",
    "        dataloader: Test data loader\n",
    "        config: Config object with device etc\n",
    "        eps: Perturbation magnitude\n",
    "        max_samples: Max number of samples to test\n",
    "    \"\"\"\n",
    "    SENN.eval()\n",
    "    for component in component_model:\n",
    "        component.eval()\n",
    "    correct = 0\n",
    "    total = 0\n",
    "    \n",
    "    # Add progress bar and sample limit, use tqdm, because I love it :) \n",
    "    for x, labels in tqdm(dataloader, total=min(len(dataloader), max_samples)):\n",
    "        if total >= max_samples:\n",
    "            break\n",
    "            \n",
    "        x = x.float().to(config.device)\n",
    "        x.requires_grad = True\n",
    "        labels = labels.to(config.device)\n",
    "        \n",
    "        if component_name == \"conc+agg\":\n",
    "            # First get concepts and relevances\n",
    "            concepts, reconstructed = component_model[0](x)\n",
    "            relevances = component_model[1](x)\n",
    "            \n",
    "            # Aggregator attack\n",
    "            concepts_copy = concepts.detach()\n",
    "            relevances_copy = relevances.detach() \n",
    "            concepts_copy.requires_grad = True\n",
    "            relevances_copy.requires_grad = True\n",
    "            predictions = component_model[2](concepts_copy, relevances_copy)\n",
    "            agg_loss = nn.CrossEntropyLoss()(predictions, labels)\n",
    "            \n",
    "            component_model[2].zero_grad()\n",
    "            agg_loss.backward(retain_graph=True)\n",
    "            \n",
    "            c_grad = concepts_copy.grad.data\n",
    "            r_grad = relevances_copy.grad.data\n",
    "            perturbed_concepts = fgsm_attack(concepts, eps/255, c_grad)\n",
    "            perturbed_reconstructed = component_model[0].decode(perturbed_concepts)\n",
    "            \n",
    "            # Conceptizer attack\n",
    "            conc_loss = nn.MSELoss()(perturbed_reconstructed, x)\n",
    "            \n",
    "            for component in component_model:\n",
    "                component.zero_grad()\n",
    "            conc_loss.backward(retain_graph=True)\n",
    "            \n",
    "            data_grad = -1*x.grad.data\n",
    "            perturbed_input = fgsm_attack(x, eps/255, data_grad)\n",
    "            \n",
    "            # Get predictions using both perturbations\n",
    "            perturbed_output, _, _ = SENN(perturbed_input)\n",
    "            \n",
    "        elif component_name == \"para+agg\":\n",
    "            # First get concepts and relevances\n",
    "            concepts, reconstructed = component_model[0](x)\n",
    "            relevances = component_model[1](x)\n",
    "            \n",
    "            # Aggregator attack\n",
    "            concepts_copy = concepts.detach()\n",
    "            relevances_copy = relevances.detach()\n",
    "            concepts_copy.requires_grad = True\n",
    "            relevances_copy.requires_grad = True\n",
    "            predictions = component_model[2](concepts_copy, relevances_copy)\n",
    "            agg_loss = nn.CrossEntropyLoss()(predictions, labels)\n",
    "            \n",
    "            component_model[2].zero_grad()\n",
    "            agg_loss.backward(retain_graph=True)\n",
    "            \n",
    "            c_grad = concepts_copy.grad.data\n",
    "            r_grad = relevances_copy.grad.data\n",
    "            perturbed_concepts = fgsm_attack(concepts, eps/255, c_grad)\n",
    "            perturbed_relevances = fgsm_attack(relevances, eps/255, r_grad)\n",
    "            \n",
    "            # Parameterizer attack\n",
    "            para_loss = mse_l1_sparsity(x, reconstructed, perturbed_relevances, 0.1)\n",
    "            \n",
    "            for component in component_model:\n",
    "                component.zero_grad()\n",
    "            para_loss.backward(retain_graph=True)\n",
    "            \n",
    "            data_grad = x.grad.data\n",
    "            perturbed_input = fgsm_attack(x, eps/255, data_grad)\n",
    "            \n",
    "            # Get predictions using both perturbations\n",
    "            perturbed_output, _, _ = SENN(perturbed_input)\n",
    "            \n",
    "        elif component_name == \"conc+para\":\n",
    "            # Conceptizer attack\n",
    "            concepts, reconstructed = component_model[0](x)\n",
    "            conc_loss = nn.MSELoss()(reconstructed, x)\n",
    "            \n",
    "            for component in component_model:\n",
    "                component.zero_grad()\n",
    "            conc_loss.backward(retain_graph=True)\n",
    "            data_grad_conc = x.grad.data\n",
    "            \n",
    "            # Parameterizer attack\n",
    "            relevances = component_model[1](x)\n",
    "            para_loss = mse_l1_sparsity(x, reconstructed, relevances, 0.1)\n",
    "            \n",
    "            for component in component_model:\n",
    "                component.zero_grad()\n",
    "            para_loss.backward(retain_graph=True)\n",
    "            data_grad_para = x.grad.data\n",
    "            \n",
    "            # Combine gradients and perturb input\n",
    "            data_grad = 0.5 * data_grad_conc + 0.5 * data_grad_para\n",
    "            perturbed_input = fgsm_attack(x, eps/255, data_grad)\n",
    "            \n",
    "            # Get predictions on perturbed input\n",
    "            perturbed_output, _, _ = SENN(perturbed_input)\n",
    "        \n",
    "        # Track accuracy\n",
    "        _, predicted = torch.max(perturbed_output.data, 1)\n",
    "        total += labels.size(0)\n",
    "        correct += (predicted == labels).sum().item()\n",
    "        \n",
    "    accuracy = 100 * correct / total\n",
    "    print(f\"Epsilon {eps} | Perturbed Accuracy: {accuracy:.2f}%\")\n",
    "\n",
    "    return perturbed_input, accuracy\n",
    "    \n",
    "            \n",
    "\n",
    "\n",
    "  "
   ]
  },
  {
   "cell_type": "code",
   "execution_count": 9,
   "metadata": {},
   "outputs": [
    {
     "name": "stdout",
     "output_type": "stream",
     "text": [
      "Loaded checkpoint successfully\n",
      "\n",
      "Testing conc+agg perturbation:\n"
     ]
    },
    {
     "name": "stderr",
     "output_type": "stream",
     "text": [
      "  0%|          | 0/50 [00:00<?, ?it/s][W NNPACK.cpp:51] Could not initialize NNPACK! Reason: Unsupported hardware.\n",
      "  2%|▏         | 1/50 [00:00<00:28,  1.75it/s]\n"
     ]
    },
    {
     "name": "stdout",
     "output_type": "stream",
     "text": [
      "Epsilon 0 | Perturbed Accuracy: 100.00%\n"
     ]
    },
    {
     "name": "stderr",
     "output_type": "stream",
     "text": [
      "  2%|▏         | 1/50 [00:00<00:22,  2.14it/s]\n"
     ]
    },
    {
     "name": "stdout",
     "output_type": "stream",
     "text": [
      "Epsilon 25 | Perturbed Accuracy: 98.50%\n"
     ]
    },
    {
     "name": "stderr",
     "output_type": "stream",
     "text": [
      "  2%|▏         | 1/50 [00:00<00:19,  2.55it/s]\n"
     ]
    },
    {
     "name": "stdout",
     "output_type": "stream",
     "text": [
      "Epsilon 50 | Perturbed Accuracy: 96.00%\n"
     ]
    },
    {
     "name": "stderr",
     "output_type": "stream",
     "text": [
      "  2%|▏         | 1/50 [00:00<00:23,  2.06it/s]\n"
     ]
    },
    {
     "name": "stdout",
     "output_type": "stream",
     "text": [
      "Epsilon 75 | Perturbed Accuracy: 80.00%\n"
     ]
    },
    {
     "name": "stderr",
     "output_type": "stream",
     "text": [
      "  2%|▏         | 1/50 [00:00<00:20,  2.39it/s]\n"
     ]
    },
    {
     "name": "stdout",
     "output_type": "stream",
     "text": [
      "Epsilon 100 | Perturbed Accuracy: 32.50%\n"
     ]
    },
    {
     "name": "stderr",
     "output_type": "stream",
     "text": [
      "  2%|▏         | 1/50 [00:00<00:22,  2.15it/s]\n"
     ]
    },
    {
     "name": "stdout",
     "output_type": "stream",
     "text": [
      "Epsilon 200 | Perturbed Accuracy: 4.00%\n"
     ]
    },
    {
     "name": "stderr",
     "output_type": "stream",
     "text": [
      "  2%|▏         | 1/50 [00:00<00:18,  2.66it/s]\n"
     ]
    },
    {
     "name": "stdout",
     "output_type": "stream",
     "text": [
      "Epsilon 225 | Perturbed Accuracy: 3.00%\n"
     ]
    },
    {
     "name": "stderr",
     "output_type": "stream",
     "text": [
      "  2%|▏         | 1/50 [00:00<00:20,  2.35it/s]\n"
     ]
    },
    {
     "name": "stdout",
     "output_type": "stream",
     "text": [
      "Epsilon 250 | Perturbed Accuracy: 3.50%\n",
      "\n",
      "Testing para+agg perturbation:\n"
     ]
    },
    {
     "name": "stderr",
     "output_type": "stream",
     "text": [
      "  2%|▏         | 1/50 [00:00<00:21,  2.29it/s]\n"
     ]
    },
    {
     "name": "stdout",
     "output_type": "stream",
     "text": [
      "Epsilon 0 | Perturbed Accuracy: 100.00%\n"
     ]
    },
    {
     "name": "stderr",
     "output_type": "stream",
     "text": [
      "  2%|▏         | 1/50 [00:00<00:21,  2.31it/s]\n"
     ]
    },
    {
     "name": "stdout",
     "output_type": "stream",
     "text": [
      "Epsilon 25 | Perturbed Accuracy: 97.00%\n"
     ]
    },
    {
     "name": "stderr",
     "output_type": "stream",
     "text": [
      "  2%|▏         | 1/50 [00:00<00:22,  2.21it/s]\n"
     ]
    },
    {
     "name": "stdout",
     "output_type": "stream",
     "text": [
      "Epsilon 50 | Perturbed Accuracy: 80.50%\n"
     ]
    },
    {
     "name": "stderr",
     "output_type": "stream",
     "text": [
      "  2%|▏         | 1/50 [00:00<00:21,  2.26it/s]\n"
     ]
    },
    {
     "name": "stdout",
     "output_type": "stream",
     "text": [
      "Epsilon 75 | Perturbed Accuracy: 33.00%\n"
     ]
    },
    {
     "name": "stderr",
     "output_type": "stream",
     "text": [
      "  2%|▏         | 1/50 [00:00<00:22,  2.17it/s]\n"
     ]
    },
    {
     "name": "stdout",
     "output_type": "stream",
     "text": [
      "Epsilon 100 | Perturbed Accuracy: 4.50%\n"
     ]
    },
    {
     "name": "stderr",
     "output_type": "stream",
     "text": [
      "  2%|▏         | 1/50 [00:00<00:22,  2.16it/s]\n"
     ]
    },
    {
     "name": "stdout",
     "output_type": "stream",
     "text": [
      "Epsilon 200 | Perturbed Accuracy: 5.50%\n"
     ]
    },
    {
     "name": "stderr",
     "output_type": "stream",
     "text": [
      "  2%|▏         | 1/50 [00:00<00:23,  2.09it/s]\n"
     ]
    },
    {
     "name": "stdout",
     "output_type": "stream",
     "text": [
      "Epsilon 225 | Perturbed Accuracy: 6.00%\n"
     ]
    },
    {
     "name": "stderr",
     "output_type": "stream",
     "text": [
      "  2%|▏         | 1/50 [00:00<00:24,  2.02it/s]\n"
     ]
    },
    {
     "name": "stdout",
     "output_type": "stream",
     "text": [
      "Epsilon 250 | Perturbed Accuracy: 6.00%\n",
      "\n",
      "Testing conc+para perturbation:\n"
     ]
    },
    {
     "name": "stderr",
     "output_type": "stream",
     "text": [
      "  2%|▏         | 1/50 [00:00<00:28,  1.72it/s]\n"
     ]
    },
    {
     "name": "stdout",
     "output_type": "stream",
     "text": [
      "Epsilon 0 | Perturbed Accuracy: 100.00%\n"
     ]
    },
    {
     "name": "stderr",
     "output_type": "stream",
     "text": [
      "  2%|▏         | 1/50 [00:00<00:26,  1.82it/s]\n"
     ]
    },
    {
     "name": "stdout",
     "output_type": "stream",
     "text": [
      "Epsilon 25 | Perturbed Accuracy: 100.00%\n"
     ]
    },
    {
     "name": "stderr",
     "output_type": "stream",
     "text": [
      "  2%|▏         | 1/50 [00:00<00:29,  1.65it/s]\n"
     ]
    },
    {
     "name": "stdout",
     "output_type": "stream",
     "text": [
      "Epsilon 50 | Perturbed Accuracy: 99.00%\n"
     ]
    },
    {
     "name": "stderr",
     "output_type": "stream",
     "text": [
      "  2%|▏         | 1/50 [00:00<00:24,  1.99it/s]\n"
     ]
    },
    {
     "name": "stdout",
     "output_type": "stream",
     "text": [
      "Epsilon 75 | Perturbed Accuracy: 98.50%\n"
     ]
    },
    {
     "name": "stderr",
     "output_type": "stream",
     "text": [
      "  2%|▏         | 1/50 [00:00<00:30,  1.63it/s]\n"
     ]
    },
    {
     "name": "stdout",
     "output_type": "stream",
     "text": [
      "Epsilon 100 | Perturbed Accuracy: 97.50%\n"
     ]
    },
    {
     "name": "stderr",
     "output_type": "stream",
     "text": [
      "  2%|▏         | 1/50 [00:00<00:29,  1.65it/s]\n"
     ]
    },
    {
     "name": "stdout",
     "output_type": "stream",
     "text": [
      "Epsilon 200 | Perturbed Accuracy: 78.50%\n"
     ]
    },
    {
     "name": "stderr",
     "output_type": "stream",
     "text": [
      "  2%|▏         | 1/50 [00:00<00:28,  1.74it/s]\n"
     ]
    },
    {
     "name": "stdout",
     "output_type": "stream",
     "text": [
      "Epsilon 225 | Perturbed Accuracy: 76.50%\n"
     ]
    },
    {
     "name": "stderr",
     "output_type": "stream",
     "text": [
      "  2%|▏         | 1/50 [00:00<00:29,  1.67it/s]\n"
     ]
    },
    {
     "name": "stdout",
     "output_type": "stream",
     "text": [
      "Epsilon 250 | Perturbed Accuracy: 71.00%\n"
     ]
    },
    {
     "data": {
      "image/png": "[encoded data removed]",
      "text/plain": [
       "<Figure size 1000x600 with 1 Axes>"
      ]
     },
     "metadata": {},
     "output_type": "display_data"
    }
   ],
   "source": [
    "# Test script\n",
    "def test_joint_perturbation():\n",
    "    # Load model and data\n",
    "    mnist_config = get_config(\"mnist_lambda1e-4_seed29.json\")\n",
    "    mnist_config.device = \"cuda\" if torch.cuda.is_available() else \"cpu\"\n",
    "    \n",
    "    # Get test dataloader\n",
    "    _, _, mnist_test_dl = get_dataloader(mnist_config)\n",
    "    \n",
    "    # Create model components\n",
    "    conceptizer = ConvConceptizer(**mnist_config.__dict__)\n",
    "    parameterizer = ConvParameterizer(**mnist_config.__dict__)\n",
    "    aggregator = SumAggregator(**mnist_config.__dict__)\n",
    "    mnist_SENN = SENN(conceptizer, parameterizer, aggregator)\n",
    "    \n",
    "    # Load checkpoint if available\n",
    "    try:\n",
    "        mnist_checkpoint = load_checkpoint(mnist_config)\n",
    "        mnist_SENN.load_state_dict(mnist_checkpoint['model_state'])\n",
    "        print(\"Loaded checkpoint successfully\")\n",
    "    except:\n",
    "        print(\"No checkpoint found, using untrained model\")\n",
    "    \n",
    "    # Test different epsilon value, just add / change in list\n",
    "    component_pairs = [\"conc+agg\", \"para+agg\", \"conc+para\"]\n",
    "    eps_values = [0, 25, 50, 75, 100, 200, 225, 250]\n",
    "    \n",
    "    results = {}\n",
    "    for comp_pair in component_pairs:\n",
    "        print(f\"\\nTesting {comp_pair} perturbation:\")\n",
    "        pair_results = []\n",
    "        for eps in eps_values:\n",
    "            perturbed_input, acc = perturbed_accuracy_joint(\n",
    "                mnist_SENN, \n",
    "                comp_pair,\n",
    "                [conceptizer, parameterizer, aggregator],\n",
    "                mnist_test_dl,\n",
    "                mnist_config,\n",
    "                eps,\n",
    "                max_samples=100\n",
    "            )\n",
    "            pair_results.append((eps, acc))\n",
    "        results[comp_pair] = pair_results\n",
    "        \n",
    "    # Plot results\n",
    "    plt.figure(figsize=(10, 6))\n",
    "    for comp_pair, res in results.items():\n",
    "        eps_list, acc_list = zip(*res)\n",
    "        plt.plot(eps_list, acc_list, marker='o', label=comp_pair)\n",
    "    \n",
    "    plt.xlabel('Epsilon')\n",
    "    plt.ylabel('Accuracy (%)')\n",
    "    plt.title('Joint Perturbation Analysis')\n",
    "    plt.legend()\n",
    "    plt.grid(True)\n",
    "    plt.show()\n",
    "\n",
    "# Run test\n",
    "test_joint_perturbation()"
   ]
  },
  {
   "cell_type": "markdown",
   "metadata": {},
   "source": [
    "## Configuration"
   ]
  },
  {
   "cell_type": "code",
   "execution_count": 10,
   "metadata": {},
   "outputs": [],
   "source": [
    "plt.style.use('seaborn-notebook')"
   ]
  },
  {
   "cell_type": "markdown",
   "metadata": {},
   "source": []
  },
  {
   "cell_type": "markdown",
   "metadata": {},
   "source": [
    "<a name=\"reproduce_mnist\"></a>\n",
    "# 2. Reproducing MNIST Results"
   ]
  },
  {
   "cell_type": "markdown",
   "metadata": {},
   "source": [
    "## Load MNIST Data and Config"
   ]
  },
  {
   "cell_type": "code",
   "execution_count": 11,
   "metadata": {},
   "outputs": [
    {
     "name": "stdout",
     "output_type": "stream",
     "text": [
      "cpu\n"
     ]
    }
   ],
   "source": [
    "mnist_config = get_config(\"mnist_lambda1e-4_seed29.json\")\n",
    "mnist_config.device = \"cuda\" if torch.cuda.is_available() else \"cpu\"\n",
    "print(mnist_config.device)"
   ]
  },
  {
   "cell_type": "code",
   "execution_count": 12,
   "metadata": {},
   "outputs": [],
   "source": [
    "from torch.utils.data import DataLoader\n",
    "\n",
    "_, _, mnist_test_dl = get_dataloader(mnist_config)\n",
    "\n",
    "test_dataset = mnist_test_dl.dataset\n",
    "val_loader = DataLoader(test_dataset, batch_size=128, shuffle=False)"
   ]
  },
  {
   "cell_type": "code",
   "execution_count": 13,
   "metadata": {},
   "outputs": [
    {
     "name": "stdout",
     "output_type": "stream",
     "text": [
      "namespace(aggregator='SumAggregator', batch_size=200, cl_sizes=[1, 10, 20], concept_dim=1, concept_reg=1, conceptizer='ConvConceptizer', data_path='datasets/data/mnist_data', dataloader='mnist', device='cpu', dropout=0.5, epochs=5, eval_freq=270, exp_name='mnist_lambda1e-4_seed29', hidden_sizes=[320, 50], image_size=28, lr=0.0002, manual_seed=29, num_classes=10, num_concepts=5, parameterizer='ConvParameterizer', print_freq=100, robust_reg=0.0001, robustness_loss='mnist_robustness_loss', sparsity_reg=2e-05, train=True)\n"
     ]
    }
   ],
   "source": [
    "_, _, mnist_test_dl = get_dataloader(mnist_config)\n",
    "\n",
    "print(mnist_config)\n"
   ]
  },
  {
   "cell_type": "markdown",
   "metadata": {},
   "source": [
    "## Load Trained Model"
   ]
  },
  {
   "cell_type": "code",
   "execution_count": 14,
   "metadata": {},
   "outputs": [],
   "source": [
    "conceptizer = ConvConceptizer(**mnist_config.__dict__)\n",
    "parameterizer = ConvParameterizer(**mnist_config.__dict__)\n",
    "aggregator = SumAggregator(**mnist_config.__dict__)\n",
    "\n",
    "mnist_SENN = SENN(conceptizer, parameterizer, aggregator)"
   ]
  },
  {
   "cell_type": "markdown",
   "metadata": {},
   "source": [
    "## Test Accuracy"
   ]
  },
  {
   "cell_type": "markdown",
   "metadata": {},
   "source": [
    "First we run and evaluate the prediction performance of our model to check whether the results reported by the authors are reproducible or not. We are using the same hyperparameters and architecture that were reported by the authors."
   ]
  },
  {
   "cell_type": "code",
   "execution_count": 15,
   "metadata": {},
   "outputs": [
    {
     "name": "stdout",
     "output_type": "stream",
     "text": [
      "cpu\n",
      "cuda\n"
     ]
    }
   ],
   "source": [
    "print(mnist_config.device)\n",
    "mnist_config.device = \"cuda\"  # Force GPU usage\n",
    "print(mnist_config.device)\n"
   ]
  },
  {
   "cell_type": "code",
   "execution_count": 16,
   "metadata": {},
   "outputs": [
    {
     "name": "stdout",
     "output_type": "stream",
     "text": [
      "==================================================\n",
      " EXPERIMENT: mnist_lambda1e-4_seed29\n",
      "==================================================\n",
      "{'aggregator': 'SumAggregator',\n",
      " 'batch_size': 200,\n",
      " 'cl_sizes': [1, 10, 20],\n",
      " 'concept_dim': 1,\n",
      " 'concept_reg': 1,\n",
      " 'conceptizer': 'ConvConceptizer',\n",
      " 'data_path': 'datasets/data/mnist_data',\n",
      " 'dataloader': 'mnist',\n",
      " 'device': 'cpu',\n",
      " 'dropout': 0.5,\n",
      " 'epochs': 5,\n",
      " 'eval_freq': 270,\n",
      " 'exp_name': 'mnist_lambda1e-4_seed29',\n",
      " 'hidden_sizes': [320, 50],\n",
      " 'image_size': 28,\n",
      " 'lr': 0.0002,\n",
      " 'manual_seed': 29,\n",
      " 'num_classes': 10,\n",
      " 'num_concepts': 5,\n",
      " 'parameterizer': 'ConvParameterizer',\n",
      " 'print_freq': 100,\n",
      " 'robust_reg': 0.0001,\n",
      " 'robustness_loss': 'mnist_robustness_loss',\n",
      " 'sparsity_reg': 2e-05,\n",
      " 'train': True}\n",
      "Using device cpu\n",
      "Loading data ...\n",
      "SENN(\n",
      "  (conceptizer): ConvConceptizer(\n",
      "    (encoder): ModuleList(\n",
      "      (0): Sequential(\n",
      "        (0): Conv2d(1, 10, kernel_size=(5, 5), stride=(1, 1))\n",
      "        (1): MaxPool2d(kernel_size=2, stride=2, padding=0, dilation=1, ceil_mode=False)\n",
      "        (2): ReLU(inplace=True)\n",
      "      )\n",
      "      (1): Sequential(\n",
      "        (0): Conv2d(10, 5, kernel_size=(5, 5), stride=(1, 1))\n",
      "        (1): MaxPool2d(kernel_size=2, stride=2, padding=0, dilation=1, ceil_mode=False)\n",
      "        (2): ReLU(inplace=True)\n",
      "      )\n",
      "      (2): ScalarMapping(\n",
      "        (layers): ModuleList(\n",
      "          (0): Linear(in_features=16, out_features=1, bias=True)\n",
      "          (1): Linear(in_features=16, out_features=1, bias=True)\n",
      "          (2): Linear(in_features=16, out_features=1, bias=True)\n",
      "          (3): Linear(in_features=16, out_features=1, bias=True)\n",
      "          (4): Linear(in_features=16, out_features=1, bias=True)\n",
      "        )\n",
      "      )\n",
      "    )\n",
      "    (decoder): ModuleList(\n",
      "      (0): Sequential(\n",
      "        (0): ConvTranspose2d(5, 16, kernel_size=(5, 5), stride=(2, 2))\n",
      "      )\n",
      "      (1): ReLU(inplace=True)\n",
      "      (2): Sequential(\n",
      "        (0): ConvTranspose2d(16, 8, kernel_size=(5, 5), stride=(1, 1))\n",
      "      )\n",
      "      (3): ReLU(inplace=True)\n",
      "      (4): Sequential(\n",
      "        (0): ConvTranspose2d(8, 1, kernel_size=(2, 2), stride=(2, 2), padding=(1, 1))\n",
      "      )\n",
      "      (5): Tanh()\n",
      "    )\n",
      "    (unlinear): Linear(in_features=1, out_features=16, bias=True)\n",
      "  )\n",
      "  (parameterizer): ConvParameterizer(\n",
      "    (cl_layers): Sequential(\n",
      "      (0): Conv2d(1, 10, kernel_size=(5, 5), stride=(1, 1))\n",
      "      (1): MaxPool2d(kernel_size=2, stride=2, padding=0, dilation=1, ceil_mode=False)\n",
      "      (2): ReLU()\n",
      "      (3): Conv2d(10, 20, kernel_size=(5, 5), stride=(1, 1))\n",
      "      (4): Dropout2d(p=0.5, inplace=False)\n",
      "      (5): MaxPool2d(kernel_size=2, stride=2, padding=0, dilation=1, ceil_mode=False)\n",
      "      (6): ReLU()\n",
      "    )\n",
      "    (fc_layers): Sequential(\n",
      "      (0): Linear(in_features=320, out_features=50, bias=True)\n",
      "      (1): Dropout(p=0.5, inplace=False)\n",
      "      (2): Tanh()\n",
      "    )\n",
      "  )\n",
      "  (aggregator): SumAggregator()\n",
      ")\n",
      "Trainable Parameters: 28219\n",
      "\n",
      "Training begins...\n",
      "EPOCH:0 STEP:0\n",
      "Total Loss:3.425 \tClassification Loss:2.301 \tRobustness Loss:6.692 \tConcept Loss:1.123 \tAccuracy:0.110 \t\n",
      "EPOCH:0 STEP:100\n",
      "Total Loss:1.949 \tClassification Loss:1.116 \tRobustness Loss:49.552 \tConcept Loss:0.828 \tAccuracy:0.660 \t\n",
      "CTRL+C pressed... Waiting to finalize.\n"
     ]
    }
   ],
   "source": [
    "from senn.trainer import init_trainer\n",
    "\n",
    "# Path to your config file\n",
    "config_file = \"configs/mnist_lambda1e-4_seed29.json\"\n",
    "\n",
    "# Initialize and run the trainer\n",
    "trainer = init_trainer(config_file)\n",
    "trainer.run()"
   ]
  },
  {
   "cell_type": "code",
   "execution_count": 17,
   "metadata": {},
   "outputs": [
    {
     "name": "stdout",
     "output_type": "stream",
     "text": [
      "cuda\n",
      "cpu\n"
     ]
    }
   ],
   "source": [
    "print(mnist_config.device)\n",
    "mnist_config.device = \"cpu\"  # Force CPU usage\n",
    "print(mnist_config.device)"
   ]
  },
  {
   "cell_type": "code",
   "execution_count": 18,
   "metadata": {},
   "outputs": [
    {
     "data": {
      "text/plain": [
       "<All keys matched successfully>"
      ]
     },
     "execution_count": 18,
     "metadata": {},
     "output_type": "execute_result"
    }
   ],
   "source": [
    "# Create model\n",
    "conceptizer = ConvConceptizer(**mnist_config.__dict__)\n",
    "parameterizer = ConvParameterizer(**mnist_config.__dict__)\n",
    "aggregator = SumAggregator(**mnist_config.__dict__)\n",
    "mnist_SENN_trained = SENN(conceptizer, parameterizer, aggregator)\n",
    "\n",
    "# Load checkpoint\n",
    "mnist_checkpoint = load_checkpoint(mnist_config)\n",
    "mnist_SENN_trained.load_state_dict(mnist_checkpoint['model_state'])\n",
    "\n"
   ]
  },
  {
   "cell_type": "code",
   "execution_count": 19,
   "metadata": {},
   "outputs": [
    {
     "name": "stdout",
     "output_type": "stream",
     "text": [
      "Test Mean Accuracy:  97.220 %\n"
     ]
    }
   ],
   "source": [
    "# Then test accuracy\n",
    "accuracy(mnist_SENN_trained, mnist_test_dl, mnist_config)"
   ]
  },
  {
   "cell_type": "code",
   "execution_count": 20,
   "metadata": {},
   "outputs": [
    {
     "name": "stderr",
     "output_type": "stream",
     "text": [
      "  1%|▏         | 1/79 [00:00<00:13,  5.75it/s]\n"
     ]
    },
    {
     "name": "stdout",
     "output_type": "stream",
     "text": [
      "Epsilon 0 | Perturbed Accuracy: 100.00%\n"
     ]
    },
    {
     "name": "stderr",
     "output_type": "stream",
     "text": [
      "  1%|▏         | 1/79 [00:00<00:14,  5.36it/s]\n"
     ]
    },
    {
     "name": "stdout",
     "output_type": "stream",
     "text": [
      "Epsilon 25 | Perturbed Accuracy: 100.00%\n"
     ]
    },
    {
     "name": "stderr",
     "output_type": "stream",
     "text": [
      "  1%|▏         | 1/79 [00:00<00:13,  5.58it/s]\n"
     ]
    },
    {
     "name": "stdout",
     "output_type": "stream",
     "text": [
      "Epsilon 50 | Perturbed Accuracy: 98.44%\n"
     ]
    },
    {
     "name": "stderr",
     "output_type": "stream",
     "text": [
      "  1%|▏         | 1/79 [00:00<00:17,  4.55it/s]\n"
     ]
    },
    {
     "name": "stdout",
     "output_type": "stream",
     "text": [
      "Epsilon 75 | Perturbed Accuracy: 97.66%\n"
     ]
    },
    {
     "name": "stderr",
     "output_type": "stream",
     "text": [
      "  1%|▏         | 1/79 [00:00<00:14,  5.24it/s]\n"
     ]
    },
    {
     "name": "stdout",
     "output_type": "stream",
     "text": [
      "Epsilon 100 | Perturbed Accuracy: 96.88%\n"
     ]
    },
    {
     "name": "stderr",
     "output_type": "stream",
     "text": [
      "  1%|▏         | 1/79 [00:00<00:14,  5.31it/s]\n"
     ]
    },
    {
     "name": "stdout",
     "output_type": "stream",
     "text": [
      "Epsilon 125 | Perturbed Accuracy: 93.75%\n"
     ]
    },
    {
     "name": "stderr",
     "output_type": "stream",
     "text": [
      "  1%|▏         | 1/79 [00:00<00:40,  1.94it/s]\n"
     ]
    },
    {
     "name": "stdout",
     "output_type": "stream",
     "text": [
      "Epsilon 150 | Perturbed Accuracy: 85.16%\n"
     ]
    },
    {
     "name": "stderr",
     "output_type": "stream",
     "text": [
      "  1%|▏         | 1/79 [00:00<00:28,  2.75it/s]\n"
     ]
    },
    {
     "name": "stdout",
     "output_type": "stream",
     "text": [
      "Epsilon 175 | Perturbed Accuracy: 81.25%\n"
     ]
    },
    {
     "name": "stderr",
     "output_type": "stream",
     "text": [
      "  1%|▏         | 1/79 [00:00<00:31,  2.46it/s]\n"
     ]
    },
    {
     "name": "stdout",
     "output_type": "stream",
     "text": [
      "Epsilon 200 | Perturbed Accuracy: 78.91%\n"
     ]
    },
    {
     "name": "stderr",
     "output_type": "stream",
     "text": [
      "  1%|▏         | 1/79 [00:00<00:45,  1.70it/s]\n"
     ]
    },
    {
     "name": "stdout",
     "output_type": "stream",
     "text": [
      "Epsilon 225 | Perturbed Accuracy: 75.78%\n"
     ]
    },
    {
     "name": "stderr",
     "output_type": "stream",
     "text": [
      "  1%|▏         | 1/79 [00:00<00:23,  3.28it/s]"
     ]
    },
    {
     "name": "stdout",
     "output_type": "stream",
     "text": [
      "Epsilon 250 | Perturbed Accuracy: 71.09%\n"
     ]
    },
    {
     "name": "stderr",
     "output_type": "stream",
     "text": [
      "\n"
     ]
    }
   ],
   "source": [
    "images_p = []\n",
    "para_prob_vector = []\n",
    "for eps in range(0,255,25):#range(0,270,25):\n",
    "    #last_perturbed = perturbed_accuracy(mnist_SENN_trained, \"parameterizer\", [conceptizer, parameterizer, aggregator], val_loader, mnist_config, eps, 128)\n",
    "    last_perturbed_input, last_perturbed_output, acc = perturbed_accuracy(mnist_SENN_trained, \"parameterizer\", [conceptizer, parameterizer, aggregator], val_loader, mnist_config, eps, 128)\n",
    "    para_prob_vector.append(last_perturbed_output)\n",
    "    images_p.append(last_perturbed_input)"
   ]
  },
  {
   "cell_type": "code",
   "execution_count": 21,
   "metadata": {},
   "outputs": [],
   "source": [
    "import torch\n",
    "\n",
    "def calculate_entropy(prob_vector):\n",
    "    # Ensure the input is a tensor\n",
    "    if not isinstance(prob_vector, torch.Tensor):\n",
    "        prob_vector = torch.tensor(prob_vector)\n",
    "    \n",
    "    # Calculate entropy along dimension 1\n",
    "    prob_vector = torch.softmax(prob_vector, dim=1)\n",
    "    entropy = -torch.sum(prob_vector * torch.log(prob_vector + 1e-9), dim=1)\n",
    "    \n",
    "    return entropy\n",
    "\n",
    "# Example usage"
   ]
  },
  {
   "cell_type": "code",
   "execution_count": 22,
   "metadata": {},
   "outputs": [
    {
     "data": {
      "text/plain": [
       "[<matplotlib.lines.Line2D at 0x7f8389cf4210>]"
      ]
     },
     "execution_count": 22,
     "metadata": {},
     "output_type": "execute_result"
    },
    {
     "data": {
      "image/png": "[encoded data removed]",
      "text/plain": [
       "<Figure size 800x550 with 1 Axes>"
      ]
     },
     "metadata": {},
     "output_type": "display_data"
    }
   ],
   "source": [
    "para_entropies = []\n",
    "for i in range(len(para_prob_vector)):\n",
    "    para_entropies.append(calculate_entropy(para_prob_vector[i]).mean().item())\n",
    "\n",
    "\n",
    "plt.plot(range(0,255,25), para_entropies)"
   ]
  },
  {
   "cell_type": "code",
   "execution_count": 23,
   "metadata": {},
   "outputs": [
    {
     "name": "stderr",
     "output_type": "stream",
     "text": [
      "  1%|▏         | 1/79 [00:00<00:11,  6.97it/s]\n"
     ]
    },
    {
     "name": "stdout",
     "output_type": "stream",
     "text": [
      "Epsilon 0 | Perturbed Accuracy: 100.00%\n"
     ]
    },
    {
     "name": "stderr",
     "output_type": "stream",
     "text": [
      "  1%|▏         | 1/79 [00:00<00:10,  7.18it/s]\n"
     ]
    },
    {
     "name": "stdout",
     "output_type": "stream",
     "text": [
      "Epsilon 25 | Perturbed Accuracy: 100.00%\n"
     ]
    },
    {
     "name": "stderr",
     "output_type": "stream",
     "text": [
      "  1%|▏         | 1/79 [00:00<00:10,  7.63it/s]\n"
     ]
    },
    {
     "name": "stdout",
     "output_type": "stream",
     "text": [
      "Epsilon 50 | Perturbed Accuracy: 98.44%\n"
     ]
    },
    {
     "name": "stderr",
     "output_type": "stream",
     "text": [
      "  1%|▏         | 1/79 [00:00<00:10,  7.79it/s]\n"
     ]
    },
    {
     "name": "stdout",
     "output_type": "stream",
     "text": [
      "Epsilon 75 | Perturbed Accuracy: 96.88%\n"
     ]
    },
    {
     "name": "stderr",
     "output_type": "stream",
     "text": [
      "  1%|▏         | 1/79 [00:00<00:15,  5.19it/s]\n"
     ]
    },
    {
     "name": "stdout",
     "output_type": "stream",
     "text": [
      "Epsilon 100 | Perturbed Accuracy: 94.53%\n"
     ]
    },
    {
     "name": "stderr",
     "output_type": "stream",
     "text": [
      "  1%|▏         | 1/79 [00:00<00:12,  6.02it/s]\n"
     ]
    },
    {
     "name": "stdout",
     "output_type": "stream",
     "text": [
      "Epsilon 125 | Perturbed Accuracy: 85.16%\n"
     ]
    },
    {
     "name": "stderr",
     "output_type": "stream",
     "text": [
      "  1%|▏         | 1/79 [00:00<00:16,  4.83it/s]\n"
     ]
    },
    {
     "name": "stdout",
     "output_type": "stream",
     "text": [
      "Epsilon 150 | Perturbed Accuracy: 81.25%\n"
     ]
    },
    {
     "name": "stderr",
     "output_type": "stream",
     "text": [
      "  1%|▏         | 1/79 [00:00<00:20,  3.72it/s]\n"
     ]
    },
    {
     "name": "stdout",
     "output_type": "stream",
     "text": [
      "Epsilon 175 | Perturbed Accuracy: 78.12%\n"
     ]
    },
    {
     "name": "stderr",
     "output_type": "stream",
     "text": [
      "  1%|▏         | 1/79 [00:00<00:20,  3.77it/s]\n"
     ]
    },
    {
     "name": "stdout",
     "output_type": "stream",
     "text": [
      "Epsilon 200 | Perturbed Accuracy: 77.34%\n"
     ]
    },
    {
     "name": "stderr",
     "output_type": "stream",
     "text": [
      "  1%|▏         | 1/79 [00:00<00:26,  2.97it/s]\n"
     ]
    },
    {
     "name": "stdout",
     "output_type": "stream",
     "text": [
      "Epsilon 225 | Perturbed Accuracy: 75.00%\n"
     ]
    },
    {
     "name": "stderr",
     "output_type": "stream",
     "text": [
      "  1%|▏         | 1/79 [00:00<00:23,  3.26it/s]"
     ]
    },
    {
     "name": "stdout",
     "output_type": "stream",
     "text": [
      "Epsilon 250 | Perturbed Accuracy: 70.31%\n"
     ]
    },
    {
     "name": "stderr",
     "output_type": "stream",
     "text": [
      "\n"
     ]
    }
   ],
   "source": [
    "images_c = []\n",
    "conc_prob_vector = []\n",
    "for eps in range(0,255,25):#range(0,270,25):\n",
    "    #last_perturbed = perturbed_accuracy(mnist_SENN_trained, \"parameterizer\", [conceptizer, parameterizer, aggregator], val_loader, mnist_config, eps, 128)\n",
    "    last_perturbed_input, last_perturbed_output, acc = perturbed_accuracy(mnist_SENN_trained, \"conceptizer\", [conceptizer, parameterizer, aggregator], val_loader, mnist_config, eps, 128)\n",
    "    conc_prob_vector.append(last_perturbed_output)\n",
    "    images_c.append(last_perturbed_input)"
   ]
  },
  {
   "cell_type": "code",
   "execution_count": 25,
   "metadata": {},
   "outputs": [
    {
     "data": {
      "text/plain": [
       "<matplotlib.legend.Legend at 0x7f83086c6b50>"
      ]
     },
     "execution_count": 25,
     "metadata": {},
     "output_type": "execute_result"
    },
    {
     "data": {
      "image/png": "[encoded data removed]",
      "text/plain": [
       "<Figure size 800x550 with 1 Axes>"
      ]
     },
     "metadata": {},
     "output_type": "display_data"
    }
   ],
   "source": [
    "from math import log\n",
    "unif_prob_vector = torch.full((len(range(0,255,25)), 128, 10), log(0.1))\n",
    "\n",
    "conc_entropies = []\n",
    "for i in range(len(conc_prob_vector)):\n",
    "    conc_entropies.append(calculate_entropy(conc_prob_vector[i]).mean().item())\n",
    "\n",
    "unif_entropies = []\n",
    "for i in range(len(unif_prob_vector)):\n",
    "    unif_entropies.append(calculate_entropy(unif_prob_vector[i]).mean().item())\n",
    "\n",
    "\n",
    "#plt.plot(range(0,255,25), unif_entropies)\n",
    "plt.plot(range(0,255,25), conc_entropies)\n",
    "plt.plot(range(0,255,25), para_entropies)\n",
    "plt.legend(['Conceptizer', 'Parameterizer'])"
   ]
  },
  {
   "cell_type": "code",
   "execution_count": 32,
   "metadata": {},
   "outputs": [
    {
     "data": {
      "text/plain": [
       "<matplotlib.legend.Legend at 0x7f835a3cba10>"
      ]
     },
     "execution_count": 32,
     "metadata": {},
     "output_type": "execute_result"
    },
    {
     "data": {
      "text/plain": [
       "<Figure size 800x600 with 0 Axes>"
      ]
     },
     "metadata": {},
     "output_type": "display_data"
    },
    {
     "data": {
      "image/png": "[encoded data removed]",
      "text/plain": [
       "<Figure size 800x600 with 1 Axes>"
      ]
     },
     "metadata": {},
     "output_type": "display_data"
    }
   ],
   "source": [
    "import numpy as np\n",
    "\n",
    "def sort_subarrays_desc(arr):\n",
    "    # Ensure the input is a numpy array\n",
    "    for i in range(len(arr)):\n",
    "        if not isinstance(arr[i], np.ndarray):\n",
    "            arr[i] = arr[i].detach().numpy()\n",
    "    \n",
    "    # Sort each subarray of size 10 in descending order\n",
    "    sorted_arr = np.sort(arr, axis=-1)[:, :, ::-1]\n",
    "    \n",
    "    return np.exp(sorted_arr)\n",
    "\n",
    "def calculate_distances(arr):\n",
    "    # Calculate the distances between the 1st and the rest of the probabilities\n",
    "    distances = arr[:, :, 0:1] - arr[:, :, 1:]\n",
    "    return distances\n",
    "\n",
    "# Example usage\n",
    "sorted_arr_conc = sort_subarrays_desc(conc_prob_vector)\n",
    "conc_avg_distances = np.mean(calculate_distances(sorted_arr_conc),axis=1)\n",
    "\n",
    "sorted_arr_para = sort_subarrays_desc(para_prob_vector)\n",
    "para_avg_distances = np.mean(calculate_distances(sorted_arr_para),axis=1)\n",
    "\n",
    "plt.figure(figsize=(8, 6))\n",
    "\n",
    "plt.figure(figsize=(8, 6))\n",
    "\n",
    "# Plot the distances\n",
    "plt.plot(range(0,255,25), para_avg_distances, label='Probability Gaps')\n",
    "\n",
    "plt.xlabel('Perturbation Magnitude (ε)')\n",
    "plt.ylabel('Average Distance Between Probabilities')\n",
    "plt.title('Parameterizer Prediction Confidence vs Perturbation Level')\n",
    "plt.grid(True)\n",
    "plt.legend()\n",
    "\n",
    "\n",
    "\n"
   ]
  },
  {
   "cell_type": "code",
   "execution_count": null,
   "metadata": {},
   "outputs": [],
   "source": [
    "plt.figure(figsize=(8, 6))\n",
    "plt.plot(range(0,255,25), conc_avg_distances)\n",
    "plt.xlabel('Perturbation Magnitude (ε)')\n",
    "plt.ylabel('Average Distance Between Top and Other Probabilities')\n",
    "plt.title('Conceptizer Prediction Confidence vs Perturbation Level')\n",
    "plt.grid(True)\n",
    "plt.legend(['Conceptizer Output Probability Gaps'])\n",
    "\n",
    "plt.text(0.95, 0.95, \n",
    "         'Higher values indicate more confident predictions\\n(larger gaps between top and other class probabilities)',\n",
    "         transform=plt.gca().transAxes,\n",
    "         verticalalignment='top',\n",
    "         horizontalalignment='right',\n",
    "         bbox=dict(boxstyle='round', facecolor='white', alpha=0.8))"
   ]
  },
  {
   "cell_type": "code",
   "execution_count": null,
   "metadata": {},
   "outputs": [],
   "source": [
    "images_a = []\n",
    "agg_prob_vector = []\n",
    "a_acc = []\n",
    "for eps in range(0,255,25):#range(0,270,25):\n",
    "    #last_perturbed = perturbed_accuracy(mnist_SENN_trained, \"parameterizer\", [conceptizer, parameterizer, aggregator], val_loader, mnist_config, eps, 128)\n",
    "    last_perturbed_input, last_perturbed_output, acc = perturbed_accuracy(mnist_SENN_trained, \"aggregator\", [conceptizer, parameterizer, aggregator], val_loader, mnist_config, eps, 128)\n",
    "    a_acc.append(acc)\n",
    "    agg_prob_vector.append(last_perturbed_output)\n",
    "    images_a.append(last_perturbed_input)"
   ]
  },
  {
   "cell_type": "code",
   "execution_count": 24,
   "metadata": {},
   "outputs": [
    {
     "ename": "NameError",
     "evalue": "name 'a_acc' is not defined",
     "output_type": "error",
     "traceback": [
      "\u001b[0;31m---------------------------------------------------------------------------\u001b[0m",
      "\u001b[0;31mNameError\u001b[0m                                 Traceback (most recent call last)",
      "\u001b[0;32m/var/folders/yb/1pdwbm6x5xq6j57m9n9bmvrm0000gn/T/ipykernel_49043/780166597.py\u001b[0m in \u001b[0;36m<module>\u001b[0;34m\u001b[0m\n\u001b[0;32m----> 1\u001b[0;31m \u001b[0mplt\u001b[0m\u001b[0;34m.\u001b[0m\u001b[0mplot\u001b[0m\u001b[0;34m(\u001b[0m\u001b[0mrange\u001b[0m\u001b[0;34m(\u001b[0m\u001b[0;36m0\u001b[0m\u001b[0;34m,\u001b[0m\u001b[0;36m255\u001b[0m\u001b[0;34m,\u001b[0m\u001b[0;36m25\u001b[0m\u001b[0;34m)\u001b[0m\u001b[0;34m,\u001b[0m \u001b[0ma_acc\u001b[0m\u001b[0;34m)\u001b[0m\u001b[0;34m\u001b[0m\u001b[0;34m\u001b[0m\u001b[0m\n\u001b[0m",
      "\u001b[0;31mNameError\u001b[0m: name 'a_acc' is not defined"
     ]
    }
   ],
   "source": [
    "plt.plot(range(0,255,25), a_acc)"
   ]
  },
  {
   "cell_type": "markdown",
   "metadata": {},
   "source": [
    "The obtained test accuracy closely matches the reported range of the authors which was 99.1% to 98.7% for different lambda values. We used $\\lambda = 1e-4$  for the tested model. For further hyperparameter details you can consult the config files used or the table in the report. "
   ]
  },
  {
   "cell_type": "markdown",
   "metadata": {},
   "source": [
    "## Test Explanations"
   ]
  },
  {
   "cell_type": "markdown",
   "metadata": {},
   "source": [
    "The following function randomly samples from a test batch and produces explanations for their classification. With this experiment we want to qualitatively examine the interpretibility of the generated explanations. The model used in this experiment is the same as above."
   ]
  },
  {
   "cell_type": "code",
   "execution_count": null,
   "metadata": {},
   "outputs": [],
   "source": [
    "show_explainations(mnist_SENN, mnist_test_dl, 'mnist')"
   ]
  },
  {
   "cell_type": "markdown",
   "metadata": {},
   "source": [
    "The relevance scores of the explanations shown in the original paper are exclusively values close to either positive or negative one. The relevance scores in our explanations are more diverse."
   ]
  },
  {
   "cell_type": "markdown",
   "metadata": {},
   "source": [
    "The following function finds the top nine prototypical test examples that activate a certain concept the most. This visualization method was also used by the authors."
   ]
  },
  {
   "cell_type": "code",
   "execution_count": null,
   "metadata": {},
   "outputs": [],
   "source": [
    "show_prototypes(mnist_SENN, mnist_test_dl, 'activation')"
   ]
  },
  {
   "cell_type": "markdown",
   "metadata": {},
   "source": [
    "In the original paper the prototypes of one concept are mostly of the same digit class. While this tendency can also be observed in some of our concept representations in other cases the concept is not prototypical for a certain digit class."
   ]
  },
  {
   "cell_type": "markdown",
   "metadata": {},
   "source": [
    "In general we do not consider the vast majority of the explanations to be plausible and human interpretable. Therefore, this experiment is not reproducible. We believe that the authors picked only some of the few plausible examples by hand rather than showing randomly sampled results. We consider the poor interpretebility of the explanations a severe limitation of the framework. We argue that the lack of interpretability is at least partially caused by the way of representing the concepts. Selecting prototypes based only on the highest activation for each concept seems for us to be a crude method that fails to capture the real semantic meaning of the concept."
   ]
  },
  {
   "cell_type": "markdown",
   "metadata": {},
   "source": [
    "## Extending Concept Representation Techniques"
   ]
  },
  {
   "cell_type": "markdown",
   "metadata": {},
   "source": [
    "The authors proposed two alternative methods for representing concepts as future work. As we argue in the previous experiment that the concept visualization has potential for improovement we tryed both of these methods."
   ]
  },
  {
   "cell_type": "markdown",
   "metadata": {},
   "source": [
    "We start with another prototype visualization method which we call '$\\textit{highest contrast}$'. The difference to the standard method (highest activation) is that the prototypes are not selected by only optimizing for highest activation for a certain concept but by also considering that all remaining concepts should be activated as little as possible at the same time."
   ]
  },
  {
   "cell_type": "markdown",
   "metadata": {},
   "source": [
    "The following function finds the prototypes with the highest contrast method using the same model as above for highest activation"
   ]
  },
  {
   "cell_type": "code",
   "execution_count": null,
   "metadata": {},
   "outputs": [],
   "source": [
    "show_prototypes(mnist_SENN, mnist_test_dl, 'contrast')"
   ]
  },
  {
   "cell_type": "markdown",
   "metadata": {},
   "source": [
    "We find that the prototypes are not more human interpretable than with the highest activation method. The efect of concepts not being represented by a single digit class is even stronger for the highest contrast method.\n",
    "Note that the two visualization methods are inconsistent in some cases because the interpretation of the same underlying concept changes. A good example of this is Concept 4. In the highest activation method it represented the digit class three but with the highest contrast method it is represented by many different digit classes that could be interpreted as sharing the property of roundness. \n",
    "Finding an interpretation of the concept representation is left to the user and is therefore highly subjective. "
   ]
  },
  {
   "cell_type": "markdown",
   "metadata": {},
   "source": [
    "The next function uses the second approach proposed by the authors. This time the concepts are not represented by prototypes but by the weights of the concolutional concept encoders. We use the last layer of the encoder because deeper layers represent more high-level features."
   ]
  },
  {
   "cell_type": "code",
   "execution_count": null,
   "metadata": {},
   "outputs": [],
   "source": [
    "show_prototypes(mnist_SENN, mnist_test_dl, 'filter')"
   ]
  },
  {
   "cell_type": "markdown",
   "metadata": {},
   "source": [
    "The filters do not exhibit any human interpretable features. Considering the limited depth of the concept encoder, relatively small filter size and the simplicity of the data this is not surprising. However, we think a more suitable approach would be to visualize the filter activations of transposed convolutions applied on the concept specific filters respectively."
   ]
  },
  {
   "cell_type": "markdown",
   "metadata": {},
   "source": [
    "## Tradeoff: Accuracy vs. Robustness "
   ]
  },
  {
   "cell_type": "markdown",
   "metadata": {},
   "source": [
    "In this experiment we want to analyze the negative impact of the robustness loss rgularization on the accuracy. We therefore incrementally increase the amount of regularization and training the same model for each of the $\\lambda$-values. Because on MNIST the results were stable we only use one seed to report the results."
   ]
  },
  {
   "cell_type": "markdown",
   "metadata": {},
   "source": [
    "Below you can see the config files of the five models that are used to generate the plot."
   ]
  },
  {
   "cell_type": "code",
   "execution_count": 26,
   "metadata": {},
   "outputs": [],
   "source": [
    "config_list = ['mnist_lambda1e-4_seed29.json', 'mnist_lambda1e-3_seed29.json', 'mnist_lambda1e-2_seed29.json', \n",
    "               'mnist_lambda1e-1_seed29.json', 'mnist_lambda1e-0_seed29.json']"
   ]
  },
  {
   "cell_type": "markdown",
   "metadata": {},
   "source": [
    "The valid flag here is only used in this notebook to speed up calculations. The five models are not evaluated on the test set but instead the validation accuracies recorded during training are loaded. In the report we used the test accuracies which are almost the same as we did not do any hyperparameter search on the validation set."
   ]
  },
  {
   "cell_type": "code",
   "execution_count": null,
   "metadata": {},
   "outputs": [],
   "source": [
    "# NOTE: This will read the saved validation accuracies to speed up the process\n",
    "# in the report we evaluate on the test set\n",
    "_ = plot_lambda_accuracy(config_list, num_seeds=1, valid=True)"
   ]
  },
  {
   "cell_type": "markdown",
   "metadata": {},
   "source": [
    "There is only a very small downward trend in accuracy up to the extreme value of $\\lambda = 1$ where the accuracy drops a lot. The general trend is consistent with the authors result but they do not report the huge drop for $\\lambda=1$."
   ]
  },
  {
   "cell_type": "markdown",
   "metadata": {},
   "source": [
    "<a name=\"reproduce_compas\"></a>\n",
    "# 3. Reproducing COMPAS Results"
   ]
  },
  {
   "cell_type": "markdown",
   "metadata": {},
   "source": [
    "## Load Test Data and Configuration"
   ]
  },
  {
   "cell_type": "code",
   "execution_count": 28,
   "metadata": {},
   "outputs": [],
   "source": [
    "compas_config = get_config(\"compas_lambda1e-4_seed555.json\")\n",
    "compas_config.device = \"cpu\""
   ]
  },
  {
   "cell_type": "code",
   "execution_count": null,
   "metadata": {},
   "outputs": [],
   "source": [
    "_, _, compas_test_dl = get_dataloader(compas_config)"
   ]
  },
  {
   "cell_type": "markdown",
   "metadata": {},
   "source": [
    "## Load Trained Model"
   ]
  },
  {
   "cell_type": "code",
   "execution_count": 30,
   "metadata": {},
   "outputs": [],
   "source": [
    "conceptizer = IdentityConceptizer(**compas_config.__dict__)\n",
    "parameterizer = LinearParameterizer(**compas_config.__dict__)\n",
    "aggregator = SumAggregator(**compas_config.__dict__)\n",
    "\n",
    "compas_SENN = SENN(conceptizer, parameterizer, aggregator)"
   ]
  },
  {
   "cell_type": "code",
   "execution_count": null,
   "metadata": {},
   "outputs": [],
   "source": [
    "compas_checkpoint = load_checkpoint(compas_config)\n",
    "\n",
    "compas_SENN.load_state_dict(compas_checkpoint['model_state'])"
   ]
  },
  {
   "cell_type": "markdown",
   "metadata": {},
   "source": [
    "## Test Accuracy"
   ]
  },
  {
   "cell_type": "markdown",
   "metadata": {},
   "source": [
    "Same as for MNIST we run and evaluate the prediction performance of our COMPAS model to check whether the results reported by the authors are reproducible or not. We are using the same hyperparameters and architecture that were reported by the authors for this dataset again."
   ]
  },
  {
   "cell_type": "code",
   "execution_count": null,
   "metadata": {},
   "outputs": [],
   "source": [
    "accuracy(compas_SENN, compas_test_dl, compas_config)"
   ]
  },
  {
   "cell_type": "markdown",
   "metadata": {},
   "source": [
    "The obtained test accuracy closely matches the reported result of the authors (82%). We used $\\lambda = 1e-4$  for the tested model. For further hyperparameter details you can consult the config files used or the table in the report. "
   ]
  },
  {
   "cell_type": "markdown",
   "metadata": {},
   "source": [
    "## Test Explanations"
   ]
  },
  {
   "cell_type": "markdown",
   "metadata": {},
   "source": [
    "For completeness sake we also visualize two examples of explanations for the COMPAS dataset. As here no concepts are learned ( instead the raw inputs are used) the analysis of these explanations is not that interesting and therefore only shown in the reprt's appendix."
   ]
  },
  {
   "cell_type": "code",
   "execution_count": null,
   "metadata": {},
   "outputs": [],
   "source": [
    "# show_explainations(compas_SENN, compas_test_dl, 'compas', concept_names=compas_config.concept_names)\n",
    "show_explainations(compas_SENN, compas_test_dl, 'compas', concept_names=[f\"C{i}\" for i in range(11)])"
   ]
  },
  {
   "cell_type": "markdown",
   "metadata": {},
   "source": [
    "## Tradeoff: Accuracy vs. Robustness"
   ]
  },
  {
   "cell_type": "markdown",
   "metadata": {},
   "source": [
    "Analogously, to the regularization study performed on MNIST (see above) we do the same for the COMPAS dataset. The difference is that we train the model on three different seeds per lambda value. The used config files are listed below."
   ]
  },
  {
   "cell_type": "code",
   "execution_count": 25,
   "metadata": {},
   "outputs": [],
   "source": [
    "config_list = [[\"compas_lambda1e-4_seed111.json\",\"compas_lambda1e-4_seed333.json\",\"compas_lambda1e-4_seed555.json\"],\n",
    "               [\"compas_lambda1e-3_seed111.json\",\"compas_lambda1e-3_seed333.json\",\"compas_lambda1e-3_seed555.json\"],\n",
    "               [\"compas_lambda1e-2_seed111.json\",\"compas_lambda1e-2_seed333.json\",\"compas_lambda1e-2_seed555.json\"],\n",
    "               [\"compas_lambda1e-1_seed111.json\",\"compas_lambda1e-1_seed333.json\",\"compas_lambda1e-1_seed555.json\"],\n",
    "               [\"compas_lambda1e-0_seed111.json\",\"compas_lambda1e-0_seed333.json\",\"compas_lambda1e-0_seed555.json\"]]"
   ]
  },
  {
   "cell_type": "markdown",
   "metadata": {},
   "source": [
    "Again we use the valid flag in this notebook to speed up computations (see explanation  in the respective MNIST experiment)"
   ]
  },
  {
   "cell_type": "code",
   "execution_count": null,
   "metadata": {},
   "outputs": [],
   "source": [
    "# NOTE: This will read the saved validation accuracies to speed up the process\n",
    "# in the repoert we evaluate on the test set\n",
    "_ = plot_lambda_accuracy(config_list, num_seeds=3, valid=True)"
   ]
  },
  {
   "cell_type": "markdown",
   "metadata": {},
   "source": [
    "We observe the same downward trend in accuracy for increasing regularization that was reported by the authors. However, the magnitude of the decrease is a lot higher in our experiments. The authors only report a drop of about 4% points while in our experiment the difference in accuracy between the two extreme values is approximately 15% points. "
   ]
  },
  {
   "cell_type": "markdown",
   "metadata": {},
   "source": [
    "<a name=\"robustness_study\"></a>\n",
    "# 4. Study of Robustness"
   ]
  },
  {
   "cell_type": "markdown",
   "metadata": {},
   "source": [
    "Inspired by the robustness study the authors conducted by perturbating an input image with Guassian noise, we decided to take a different approach. Instead of using the input image with different levels of noise, we try to find semantically similar images in the dataset and plot their concepts and relevance scores. To cluster the images we train an autoencoder, whose architecture can be found in the appendix of the report, and perform k-nearest-neighbour search of the latent space (Euclidean distance) to get the images from the dataset that look most similar to the query image. As a result, we get k + 1 images for which we compare the concept activation and relevance scores."
   ]
  },
  {
   "cell_type": "markdown",
   "metadata": {},
   "source": [
    "## Load pre-trained MNIST autoencoder"
   ]
  },
  {
   "cell_type": "code",
   "execution_count": 27,
   "metadata": {},
   "outputs": [],
   "source": [
    "from senn.utils.MNIST_autoencoder import AETrainer, get_most_similar\n",
    "\n",
    "ae_trainer = AETrainer(mnist_test_dl, batch_size=200)\n",
    "ae_trainer.load_model(\"senn/utils/MNIST_autoencoder_pretrained.pt\")"
   ]
  },
  {
   "cell_type": "markdown",
   "metadata": {},
   "source": [
    "**Get the latent vector for all the inputs from the test set**"
   ]
  },
  {
   "cell_type": "code",
   "execution_count": 28,
   "metadata": {},
   "outputs": [],
   "source": [
    "mnist_latents = ae_trainer.get_latent_reps(mnist_test_dl)"
   ]
  },
  {
   "cell_type": "markdown",
   "metadata": {},
   "source": [
    "## Test robustness for visually similar images"
   ]
  },
  {
   "cell_type": "code",
   "execution_count": 29,
   "metadata": {},
   "outputs": [],
   "source": [
    "# Get the indices of the closest vectors\n",
    "nearest_num = 5\n",
    "query_index = 0\n",
    "\n",
    "distances, indices = get_most_similar(latents=mnist_latents,\n",
    "                                      query=mnist_latents[query_index],\n",
    "                                      number=nearest_num)"
   ]
  },
  {
   "cell_type": "code",
   "execution_count": null,
   "metadata": {},
   "outputs": [],
   "source": [
    "# prepare input images from the testloader \n",
    "test_images = torch.stack([mnist_test_dl.dataset[index][0] for index in indices[0]])\n",
    "\n",
    "fig = get_comparison_plot(test_images, mnist_SENN)\n",
    "fig.tight_layout()"
   ]
  },
  {
   "cell_type": "markdown",
   "metadata": {},
   "source": [
    "The experiment shows that the generated explanations are robust because the relevances as well as the concept activations are very similar for these perceptually similar test examples."
   ]
  },
  {
   "cell_type": "markdown",
   "metadata": {},
   "source": [
    "<a name=\"DiSENN\"></a>\n",
    "# 5. Self-Explaining Neural Networks with Disentanglement"
   ]
  },
  {
   "cell_type": "markdown",
   "metadata": {},
   "source": [
    "DiSENN incorporates a constrained variational inference framework on a \n",
    "SENN Concept Encoder to learn disentangled representations of the \n",
    "basis concepts as in [2]. The basis concepts are then independently\n",
    "sensitive to single generative factors leading to better interpretability \n",
    "and lesser overlap with other basis concepts. Such a strong constraint \n",
    "better fulfills the \"diversity\" desiderata for basis concepts\n",
    "in a Self-Explaining Neural Network.\n",
    "\n",
    "\n",
    "References  \n",
    "[1] Alvarez Melis, et al.\n",
    "\"Towards Robust Interpretability with Self-Explaining Neural Networks\" NIPS 2018  \n",
    "[2] Irina Higgins, et al. \n",
    "”β-VAE: Learning basic visual concepts with a constrained variational framework.” ICLR 2017. "
   ]
  },
  {
   "cell_type": "markdown",
   "metadata": {},
   "source": [
    "## Load Data and Configuration"
   ]
  },
  {
   "cell_type": "code",
   "execution_count": 31,
   "metadata": {},
   "outputs": [],
   "source": [
    "disenn_config = get_config(\"MNIST_DiSENN.json\")"
   ]
  },
  {
   "cell_type": "code",
   "execution_count": 32,
   "metadata": {},
   "outputs": [],
   "source": [
    "_, _, mnist_test_dl = get_dataloader(disenn_config)"
   ]
  },
  {
   "cell_type": "markdown",
   "metadata": {},
   "source": [
    "## Load Trained Model"
   ]
  },
  {
   "cell_type": "code",
   "execution_count": 33,
   "metadata": {},
   "outputs": [],
   "source": [
    "conceptizer = VaeConceptizer(**disenn_config.__dict__)\n",
    "parameterizer = ConvParameterizer(**disenn_config.__dict__)\n",
    "aggregator = SumAggregator(**disenn_config.__dict__)\n",
    "\n",
    "disenn = DiSENN(conceptizer, parameterizer, aggregator)"
   ]
  },
  {
   "cell_type": "code",
   "execution_count": null,
   "metadata": {},
   "outputs": [],
   "source": [
    "disenn_checkpoint = load_checkpoint(disenn_config)\n",
    "disenn.load_state_dict(disenn_checkpoint['model_state'])"
   ]
  },
  {
   "cell_type": "markdown",
   "metadata": {},
   "source": [
    "## Test Accuracy"
   ]
  },
  {
   "cell_type": "code",
   "execution_count": null,
   "metadata": {},
   "outputs": [],
   "source": [
    "accuracy(disenn, mnist_test_dl, disenn_config)"
   ]
  },
  {
   "cell_type": "markdown",
   "metadata": {},
   "source": [
    "## Test Explanations"
   ]
  },
  {
   "cell_type": "markdown",
   "metadata": {},
   "source": [
    "**Generate Prototypes from Disentangled Concepts**"
   ]
  },
  {
   "cell_type": "code",
   "execution_count": 36,
   "metadata": {},
   "outputs": [],
   "source": [
    "xb, yb = next(iter(mnist_test_dl))"
   ]
  },
  {
   "cell_type": "markdown",
   "metadata": {},
   "source": [
    "**Find all images of digit 3**"
   ]
  },
  {
   "cell_type": "code",
   "execution_count": null,
   "metadata": {},
   "outputs": [],
   "source": [
    "(yb==3).nonzero()"
   ]
  },
  {
   "cell_type": "code",
   "execution_count": null,
   "metadata": {},
   "outputs": [],
   "source": [
    "x = xb[18].cpu()\n",
    "fname = \"/digit3a.png\"\n",
    "disenn.explain(x, contrast_class=8, traversal_range=0.45,\n",
    "              gridsize=(1,6), col_span=3, figure_size=(18,3), show=True,\n",
    "              save_as=\"results/\"+disenn_config.exp_name+fname, use_cdf=True)"
   ]
  },
  {
   "cell_type": "code",
   "execution_count": null,
   "metadata": {},
   "outputs": [],
   "source": [
    "x = xb[30].cpu()\n",
    "fname = \"/digit3b.png\"\n",
    "disenn.explain(x, contrast_class=8, traversal_range=0.45,\n",
    "              gridsize=(1,6), col_span=3, figure_size=(18,3), show=True,\n",
    "              save_as=\"results/\"+disenn_config.exp_name+fname, use_cdf=True)"
   ]
  },
  {
   "cell_type": "markdown",
   "metadata": {},
   "source": [
    "**A random digit**"
   ]
  },
  {
   "cell_type": "code",
   "execution_count": null,
   "metadata": {},
   "outputs": [],
   "source": [
    "x = xb[0].cpu()\n",
    "fname = \"/digit.png\"\n",
    "disenn.explain(x, contrast_class=0, traversal_range=0.45,\n",
    "              gridsize=(1,6), col_span=3, figure_size=(18,3), show=True,\n",
    "              save_as=\"results/\"+disenn_config.exp_name+fname, use_cdf=True)"
   ]
  }
 ],
 "metadata": {
  "kernelspec": {
   "display_name": "senn",
   "language": "python",
   "name": "python3"
  },
  "language_info": {
   "codemirror_mode": {
    "name": "ipython",
    "version": 3
   },
   "file_extension": ".py",
   "mimetype": "text/x-python",
   "name": "python",
   "nbconvert_exporter": "python",
   "pygments_lexer": "ipython3",
   "version": "3.7.16"
  }
 },
 "nbformat": 4,
 "nbformat_minor": 4
}
